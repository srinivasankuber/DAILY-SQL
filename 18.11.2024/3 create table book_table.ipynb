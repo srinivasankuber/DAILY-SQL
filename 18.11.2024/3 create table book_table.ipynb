{
 "cells": [
  {
   "cell_type": "code",
   "execution_count": null,
   "metadata": {
    "vscode": {
     "languageId": "sql"
    }
   },
   "outputs": [],
   "source": [
    "-- 3 create table book table\n",
    "\n",
    "create table book_table (\n",
    "   \"BookID\" int,\n",
    "   \"AuthorID int references authors_table(\"AuthorID),\n",
    "   \"BookTitle\" varchar (25),\n",
    "   \"PublicationYear\" date\n",
    ")\t\n"
   ]
  }
 ],
 "metadata": {
  "language_info": {
   "name": "python"
  }
 },
 "nbformat": 4,
 "nbformat_minor": 2
}
