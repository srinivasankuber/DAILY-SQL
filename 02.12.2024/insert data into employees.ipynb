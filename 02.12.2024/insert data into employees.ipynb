{
 "cells": [
  {
   "cell_type": "code",
   "execution_count": null,
   "metadata": {
    "vscode": {
     "languageId": "sql"
    }
   },
   "outputs": [],
   "source": [
    "-- insert data into employees table\n",
    "\n",
    "INSERT INTO employees (employee_id, name, salary, department_id)\n",
    "VALUES \n",
    "(1,'Aravind', 50000, 1),\n",
    "(2,'Nikitha', 60000, 2),\n",
    "(3,'Ram', 70000, 3),\n",
    "(4,'Mark', 55000, 1),\n",
    "(5, 'Sara', 80000, 4)"
   ]
  }
 ],
 "metadata": {
  "language_info": {
   "name": "python"
  }
 },
 "nbformat": 4,
 "nbformat_minor": 2
}
