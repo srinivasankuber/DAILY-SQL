{
 "cells": [
  {
   "cell_type": "code",
   "execution_count": null,
   "metadata": {
    "vscode": {
     "languageId": "sql"
    }
   },
   "outputs": [],
   "source": [
    "-- insert data to departments table\n",
    "\n",
    "INSERT INTO departments ( department_id, department_name)\n",
    "VALUES \n",
    "(1,'Finance'),\n",
    "(2,'HR'),\n",
    "(3, 'IT'),\n",
    "(4, 'Marketing');"
   ]
  }
 ],
 "metadata": {
  "language_info": {
   "name": "python"
  }
 },
 "nbformat": 4,
 "nbformat_minor": 2
}
