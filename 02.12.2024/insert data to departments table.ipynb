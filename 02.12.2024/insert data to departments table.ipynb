{
 "cells": [
  {
   "cell_type": "code",
   "execution_count": null,
   "metadata": {
    "vscode": {
     "languageId": "sql"
    }
   },
   "outputs": [],
   "source": [
    "-- insert data to departments table\n",
    "\n",
    "INSERT INTO departments (department_name)\n",
    "VALUES \n",
    "('Finance'),\n",
    "('HR'),\n",
    "('IT'),\n",
    "('Marketing');"
   ]
  }
 ],
 "metadata": {
  "language_info": {
   "name": "python"
  }
 },
 "nbformat": 4,
 "nbformat_minor": 2
}
