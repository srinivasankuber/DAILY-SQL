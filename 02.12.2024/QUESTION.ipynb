{
 "cells": [
  {
   "cell_type": "code",
   "execution_count": null,
   "metadata": {
    "vscode": {
     "languageId": "sql"
    }
   },
   "outputs": [],
   "source": [
    "-- QUESTION\n",
    "\n",
    "-- 1. Find the name and salary of all employees in the Finance department.\n",
    "\n",
    "SELECT e.name, e.salary\n",
    "FROM employees e\n",
    "JOIN departments d ON e.department_id = d.department_id\n",
    "WHERE d.department_name = 'Finance';\n"
   ]
  }
 ],
 "metadata": {
  "language_info": {
   "name": "python"
  }
 },
 "nbformat": 4,
 "nbformat_minor": 2
}
