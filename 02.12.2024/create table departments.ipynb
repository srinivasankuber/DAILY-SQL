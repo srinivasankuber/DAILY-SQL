{
 "cells": [
  {
   "cell_type": "code",
   "execution_count": null,
   "metadata": {
    "vscode": {
     "languageId": "sql"
    }
   },
   "outputs": [],
   "source": [
    "-- create table departments\n",
    "\n",
    "CREATE TABLE departments \n",
    "(\n",
    "    department_id SERIAL PRIMARY KEY,\n",
    "    department_name VARCHAR(50) NOT NULL\n",
    ");"
   ]
  }
 ],
 "metadata": {
  "language_info": {
   "name": "python"
  }
 },
 "nbformat": 4,
 "nbformat_minor": 2
}
