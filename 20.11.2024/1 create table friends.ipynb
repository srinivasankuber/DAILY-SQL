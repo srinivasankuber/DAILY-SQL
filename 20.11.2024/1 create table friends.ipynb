{
 "cells": [
  {
   "cell_type": "code",
   "execution_count": null,
   "metadata": {
    "vscode": {
     "languageId": "sql"
    }
   },
   "outputs": [],
   "source": [
    "--  create table friends\n",
    "\n",
    "CREATE TABLE friends\n",
    "(\n",
    "user_id INT, \n",
    "friend_id INT\n",
    ")\n"
   ]
  }
 ],
 "metadata": {
  "language_info": {
   "name": "python"
  }
 },
 "nbformat": 4,
 "nbformat_minor": 2
}
