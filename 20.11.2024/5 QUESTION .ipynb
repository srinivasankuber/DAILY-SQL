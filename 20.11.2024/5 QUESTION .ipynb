{
 "cells": [
  {
   "cell_type": "code",
   "execution_count": null,
   "metadata": {
    "vscode": {
     "languageId": "sql"
    }
   },
   "outputs": [],
   "source": [
    "--  QUESTION \n",
    "\n",
    "determine the user id and correspondings \n",
    "page_ids of the pages that have been liked by their friends already but \n",
    "have not been liked by them arrange the final \n",
    "result of in the incresing order of user_id \n",
    "\n",
    "\n",
    "\n",
    "\n",
    "SELECT DISTINCT f.user_id, l.page_id\n",
    "FROM friends f\n",
    "JOIN likes l ON f.friend_id = l.user_id\n",
    "LEFT JOIN likes self_likes ON f.user_id = self_likes.user_id AND l.page_id = self_likes.page_id\n",
    "WHERE self_likes.page_id IS NULL\n",
    "ORDER BY f.user_id, l.page_id;\n",
    "\n"
   ]
  }
 ],
 "metadata": {
  "language_info": {
   "name": "python"
  }
 },
 "nbformat": 4,
 "nbformat_minor": 2
}
