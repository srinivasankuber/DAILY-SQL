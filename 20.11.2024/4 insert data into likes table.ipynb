{
 "cells": [
  {
   "cell_type": "code",
   "execution_count": null,
   "metadata": {
    "vscode": {
     "languageId": "sql"
    }
   },
   "outputs": [],
   "source": [
    "--   4  insert data into likes table\n",
    "  INSERT INTO likes (user_id, page_id)\n",
    "VALUES\n",
    "(1, 'A'),\n",
    "(1, 'B'),\n",
    "(1, 'C'),\n",
    "(2, 'A'),\n",
    "(3, 'B'), \n",
    "(3, 'C'), \n",
    "(4, 'B');\n"
   ]
  }
 ],
 "metadata": {
  "language_info": {
   "name": "python"
  }
 },
 "nbformat": 4,
 "nbformat_minor": 2
}
