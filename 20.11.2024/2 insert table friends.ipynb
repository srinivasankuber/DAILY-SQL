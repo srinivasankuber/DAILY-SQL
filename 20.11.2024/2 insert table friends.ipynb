{
 "cells": [
  {
   "cell_type": "code",
   "execution_count": null,
   "metadata": {
    "vscode": {
     "languageId": "sql"
    }
   },
   "outputs": [],
   "source": [
    "-- 2 insert data into friends table\n",
    "\n",
    "INSERT INTO friends (\"user_id\" , \"friend_id\") \n",
    "VALUES \n",
    "(1, 2), \n",
    "(1, 3), \n",
    "(1, 4), \n",
    "(2, 1),\n",
    "(3, 1),\n",
    "(3, 4),\n",
    "(4, 1),\n",
    "(4, 3); \n",
    "\n",
    "\n"
   ]
  }
 ],
 "metadata": {
  "language_info": {
   "name": "python"
  }
 },
 "nbformat": 4,
 "nbformat_minor": 2
}
