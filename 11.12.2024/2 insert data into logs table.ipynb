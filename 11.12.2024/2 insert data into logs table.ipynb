{
 "cells": [
  {
   "cell_type": "code",
   "execution_count": null,
   "metadata": {
    "vscode": {
     "languageId": "sql"
    }
   },
   "outputs": [],
   "source": [
    "-- 2 insert data into logs table\n",
    "\n",
    "INSERT INTO logs VALUES\n",
    "(1, 1),\n",
    "(2, 1),\n",
    "(3, 1),\n",
    "(4, 2),\n",
    "(5, 1),\n",
    "(6, 2),\n",
    "(7, 2);"
   ]
  }
 ],
 "metadata": {
  "language_info": {
   "name": "python"
  }
 },
 "nbformat": 4,
 "nbformat_minor": 2
}
