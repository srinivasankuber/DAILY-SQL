{
 "cells": [
  {
   "cell_type": "code",
   "execution_count": null,
   "metadata": {
    "vscode": {
     "languageId": "sql"
    }
   },
   "outputs": [],
   "source": [
    "-- QUESTION\n",
    "\n",
    "-- Find all numbers that appear at least three\n",
    "--  times consecutively.\n",
    "\n",
    "select distinct l1.num\n",
    "from logs l1 join logs l2\n",
    "on l1.id = l2.id - 1\n",
    "join logs l3\n",
    "on l1.id = l3.id - 2\n",
    "where l1.num = l2.num and l1.num = l3.num\n"
   ]
  }
 ],
 "metadata": {
  "language_info": {
   "name": "python"
  }
 },
 "nbformat": 4,
 "nbformat_minor": 2
}
