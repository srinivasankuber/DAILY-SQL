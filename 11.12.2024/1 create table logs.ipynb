{
 "cells": [
  {
   "cell_type": "code",
   "execution_count": null,
   "metadata": {
    "vscode": {
     "languageId": "sql"
    }
   },
   "outputs": [],
   "source": [
    "--  1 create table logs\n",
    "\n",
    "CREATE TABLE logs \n",
    "(\n",
    "id INT PRIMARY KEY NOT NULL UNIQUE, \n",
    "num INT\n",
    ");\n",
    "\n"
   ]
  }
 ],
 "metadata": {
  "language_info": {
   "name": "python"
  }
 },
 "nbformat": 4,
 "nbformat_minor": 2
}
