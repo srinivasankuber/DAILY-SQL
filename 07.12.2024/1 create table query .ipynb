{
 "cells": [
  {
   "cell_type": "code",
   "execution_count": null,
   "metadata": {
    "vscode": {
     "languageId": "sql"
    }
   },
   "outputs": [],
   "source": [
    "-- create table patients\n",
    "\n",
    "CREATE TABLE patients (\n",
    "    patient_id SERIAL PRIMARY KEY,\n",
    "    name VARCHAR(100) NOT NULL,\n",
    "    age INT NOT NULL,\n",
    "    gender VARCHAR(10) NOT NULL,\n",
    "    address TEXT,\n",
    "    contact_number VARCHAR(15),\n",
    "    disease VARCHAR(100),\n",
    "    admission_date DATE NOT NULL,\n",
    "    discharge_date DATE\n",
    ");\n"
   ]
  }
 ],
 "metadata": {
  "language_info": {
   "name": "python"
  }
 },
 "nbformat": 4,
 "nbformat_minor": 2
}
