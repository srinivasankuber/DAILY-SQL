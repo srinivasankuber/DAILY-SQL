{
 "cells": [
  {
   "cell_type": "code",
   "execution_count": null,
   "metadata": {
    "vscode": {
     "languageId": "sql"
    }
   },
   "outputs": [],
   "source": [
    "--  QUESTION\n",
    "\n",
    "-- Write a query to fetch the names and the duration of stay\n",
    " (in days) for patients who \n",
    " stayed in the hospital for more than 10 days.\n",
    "\n",
    " SELECT \n",
    "    name,\n",
    "    (discharge_date - admission_date) AS stay_duration\n",
    "FROM patients\n",
    "WHERE discharge_date IS NOT NULL\n",
    "  AND (discharge_date - admission_date) > 10;\n"
   ]
  }
 ],
 "metadata": {
  "language_info": {
   "name": "python"
  }
 },
 "nbformat": 4,
 "nbformat_minor": 2
}
