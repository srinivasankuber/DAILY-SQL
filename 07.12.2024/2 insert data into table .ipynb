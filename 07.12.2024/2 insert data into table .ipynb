{
 "cells": [
  {
   "cell_type": "code",
   "execution_count": null,
   "metadata": {
    "vscode": {
     "languageId": "sql"
    }
   },
   "outputs": [],
   "source": [
    "-- INSERT  DATA INTO patients\n",
    "\n",
    "INSERT INTO patients (name, age, gender, address, contact_number, disease, admission_date, discharge_date)\n",
    "VALUES \n",
    "    ('John Doe', 45, 'Male', '123 Elm Street', '9876543210', 'Hypertension', '2024-12-01', NULL),\n",
    "    ('Jane Smith', 34, 'Female', '456 Oak Avenue', '9123456789', 'Diabetes', '2024-11-25', '2024-12-05'),\n",
    "    ('Arjun Kumar', 29, 'Male', '789 Maple Lane', '9865321470', 'Fracture', '2024-12-03', NULL),\n",
    "    ('Priya Reddy', 50, 'Female', '321 Pine Road', '9898989898', 'Asthma', '2024-11-20', '2024-12-02');\n"
   ]
  }
 ],
 "metadata": {
  "language_info": {
   "name": "python"
  }
 },
 "nbformat": 4,
 "nbformat_minor": 2
}
