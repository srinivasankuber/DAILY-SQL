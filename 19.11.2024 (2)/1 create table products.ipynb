{
 "cells": [
  {
   "cell_type": "code",
   "execution_count": null,
   "metadata": {
    "vscode": {
     "languageId": "sql"
    }
   },
   "outputs": [],
   "source": [
    "CREATE TABLE Products\n",
    "(\n",
    " category TEXT,\n",
    " product TEXT,\n",
    " user_id INT,\n",
    " spend REAL\n",
    ")"
   ]
  }
 ],
 "metadata": {
  "language_info": {
   "name": "python"
  }
 },
 "nbformat": 4,
 "nbformat_minor": 2
}
