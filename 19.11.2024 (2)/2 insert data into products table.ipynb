{
 "cells": [
  {
   "cell_type": "code",
   "execution_count": null,
   "metadata": {
    "vscode": {
     "languageId": "sql"
    }
   },
   "outputs": [],
   "source": [
    "-- 2 insert data into products table\n",
    "\n",
    "INSERT INTO Products (category, product, user_id, spend)\n",
    " VALUES\n",
    "('appliance', 'refrigerator', 165, 26.00),\n",
    "('appliance', 'refrigerator', 123, 3.00),\n",
    "('appliance', 'washing machine', 123, 19.80),\n",
    "('electronics', 'vacuum', 178, 5.00),\n",
    "('electronics', 'wireless headset', 156, 7.00),\n",
    "('electronics', 'vacuum', 145, 15.00),\n",
    "('electronics', 'laptop', 114, 999.99),\n",
    "('fashion', 'dress', 117, 49.99),\n",
    "('groceries', 'milk', 243, 2.99),\n",
    "('groceries', 'bread', 645, 1.99),\n",
    "('home', 'furniture', 276, 599.99),\n",
    "('home', 'decor', 456, 29.99);\n",
    "\n"
   ]
  }
 ],
 "metadata": {
  "language_info": {
   "name": "python"
  }
 },
 "nbformat": 4,
 "nbformat_minor": 2
}
