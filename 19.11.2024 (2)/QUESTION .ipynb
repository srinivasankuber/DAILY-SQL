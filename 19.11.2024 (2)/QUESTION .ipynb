{
 "cells": [
  {
   "cell_type": "code",
   "execution_count": null,
   "metadata": {
    "vscode": {
     "languageId": "sql"
    }
   },
   "outputs": [],
   "source": [
    "--  find the top 2 higest selling product within \n",
    "--  each category based on total spending\n",
    "\n",
    "WITH ProductSales AS (\n",
    "    SELECT \n",
    "        category,\n",
    "        product,\n",
    "        SUM(spend) AS total_spend\n",
    "    FROM Products\n",
    "    GROUP BY category, product\n",
    "),\n",
    "RankedSales AS (\n",
    "    SELECT \n",
    "        category,\n",
    "        product,\n",
    "        total_spend,\n",
    "        RANK() OVER (PARTITION BY category ORDER BY total_spend DESC) AS rank\n",
    "    FROM ProductSales\n",
    ")\n",
    "SELECT \n",
    "    category,\n",
    "    product,\n",
    "    total_spend\n",
    "FROM RankedSales\n",
    "WHERE rank <= 2\n",
    "ORDER BY category, rank, total_spend DESC;\n",
    "\n",
    "\n"
   ]
  }
 ],
 "metadata": {
  "language_info": {
   "name": "python"
  }
 },
 "nbformat": 4,
 "nbformat_minor": 2
}
