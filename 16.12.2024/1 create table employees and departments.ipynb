{
 "cells": [
  {
   "cell_type": "code",
   "execution_count": null,
   "metadata": {
    "vscode": {
     "languageId": "sql"
    }
   },
   "outputs": [],
   "source": [
    "--  1 create table departments and employees\n",
    "\n",
    "\n",
    "CREATE TABLE departments (\n",
    "    department_id SERIAL PRIMARY KEY,\n",
    "    department_name VARCHAR(100) NOT NULL\n",
    ");\n",
    "\n",
    "CREATE TABLE employees (\n",
    "    employee_id SERIAL PRIMARY KEY,\n",
    "    employee_name VARCHAR(100) NOT NULL,\n",
    "    salary NUMERIC(10, 2) NOT NULL,\n",
    "    department_id INT REFERENCES departments(department_id)\n",
    ");\n"
   ]
  }
 ],
 "metadata": {
  "language_info": {
   "name": "python"
  }
 },
 "nbformat": 4,
 "nbformat_minor": 2
}
