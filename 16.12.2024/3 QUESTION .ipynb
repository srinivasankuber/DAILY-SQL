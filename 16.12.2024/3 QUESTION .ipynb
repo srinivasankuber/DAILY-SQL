{
 "cells": [
  {
   "cell_type": "code",
   "execution_count": null,
   "metadata": {
    "vscode": {
     "languageId": "sql"
    }
   },
   "outputs": [],
   "source": [
    "-- QUESTION \n",
    "\n",
    "-- Write a query to find the second-highest salary in each department, along with the department name and employee name\n",
    "\n",
    "WITH ranked_salaries AS (\n",
    "    SELECT \n",
    "        e.employee_name,\n",
    "        d.department_name,\n",
    "        e.salary,\n",
    "        RANK() OVER (PARTITION BY e.department_id ORDER BY e.salary DESC) AS rank\n",
    "    FROM \n",
    "        employees e\n",
    "    INNER JOIN \n",
    "        departments d\n",
    "    ON \n",
    "        e.department_id = d.department_id\n",
    ")\n",
    "SELECT \n",
    "    department_name, \n",
    "    employee_name, \n",
    "    salary\n",
    "FROM \n",
    "    ranked_salaries\n",
    "WHERE \n",
    "    rank = 2;\n"
   ]
  }
 ],
 "metadata": {
  "language_info": {
   "name": "python"
  }
 },
 "nbformat": 4,
 "nbformat_minor": 2
}
