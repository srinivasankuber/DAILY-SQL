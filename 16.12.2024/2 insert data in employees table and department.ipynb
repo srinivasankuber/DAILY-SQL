{
 "cells": [
  {
   "cell_type": "code",
   "execution_count": null,
   "metadata": {
    "vscode": {
     "languageId": "sql"
    }
   },
   "outputs": [],
   "source": [
    "-- 2 insert data into employees table and departments table\n",
    "\n",
    "-- Insert into departments\n",
    "INSERT INTO departments (department_name)\n",
    "VALUES \n",
    "    ('Finance'),\n",
    "    ('HR'),\n",
    "    ('IT'),\n",
    "    ('Marketing');\n",
    "\n",
    "-- Insert into employees\n",
    "INSERT INTO employees (employee_name, salary, department_id)\n",
    "VALUES \n",
    "    ('Alice', 75000, 1),\n",
    "    ('Bob', 60000, 2),\n",
    "    ('Charlie', 80000, 1),\n",
    "    ('Diana', 90000, 3),\n",
    "    ('Eve', 85000, 3),\n",
    "    ('Frank', 50000, 4);\n"
   ]
  }
 ],
 "metadata": {
  "language_info": {
   "name": "python"
  }
 },
 "nbformat": 4,
 "nbformat_minor": 2
}
