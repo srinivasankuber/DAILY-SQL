{
 "cells": [
  {
   "cell_type": "markdown",
   "metadata": {},
   "source": [
    "FOR TABLES REFER 26.11.2024"
   ]
  },
  {
   "cell_type": "code",
   "execution_count": null,
   "metadata": {
    "vscode": {
     "languageId": "sql"
    }
   },
   "outputs": [],
   "source": [
    "--  Find the department with the highest average salary.\n",
    "\n",
    "SELECT \n",
    "    d.deptname AS department_name,\n",
    "    ROUND(AVG(e.salary), 2) AS average_salary\n",
    "FROM \n",
    "    department d\n",
    "JOIN \n",
    "    employees e\n",
    "ON \n",
    "    d.deptid = e.deptid\n",
    "GROUP BY \n",
    "    d.deptname\n",
    "ORDER BY \n",
    "    average_salary DESC\n",
    "LIMIT 1;\n"
   ]
  }
 ],
 "metadata": {
  "language_info": {
   "name": "python"
  }
 },
 "nbformat": 4,
 "nbformat_minor": 2
}
