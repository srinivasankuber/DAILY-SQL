{
 "cells": [
  {
   "cell_type": "markdown",
   "metadata": {},
   "source": [
    "FOR TABLE REFER 26.11.2024"
   ]
  },
  {
   "cell_type": "code",
   "execution_count": null,
   "metadata": {
    "vscode": {
     "languageId": "sql"
    }
   },
   "outputs": [],
   "source": [
    "-- Count the number of employees in each department. \n",
    "\n",
    "SELECT \n",
    "    d.deptname AS department_name,\n",
    "    COUNT(e.empid) AS employee_count\n",
    "FROM \n",
    "    department d\n",
    "JOIN \n",
    "    employees e\n",
    "ON \n",
    "    d.deptid = e.deptid\n",
    "GROUP BY \n",
    "    d.deptname\n",
    "ORDER BY \n",
    "    employee_count DESC;\n",
    "\n"
   ]
  }
 ],
 "metadata": {
  "language_info": {
   "name": "python"
  }
 },
 "nbformat": 4,
 "nbformat_minor": 2
}
