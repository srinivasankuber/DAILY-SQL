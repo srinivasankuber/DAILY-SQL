{
 "cells": [
  {
   "cell_type": "code",
   "execution_count": null,
   "metadata": {
    "vscode": {
     "languageId": "sql"
    }
   },
   "outputs": [],
   "source": [
    "-- 1 QUESTION \n",
    "\n",
    "condition , if criteria 1 and and criteria 2 both are y and a\n",
    "minimum of 2 teams menbers should have y , then the output shoukld be y  else n ?\n",
    "\n",
    "\n",
    "WITH TeamCriteria AS (\n",
    "    SELECT \n",
    "        teamID,\n",
    "        COUNT(*) FILTER (WHERE Criteria1 = 'Y' AND Criteria2 = 'Y') AS valid_count\n",
    "    FROM teams\n",
    "    GROUP BY teamID\n",
    "),\n",
    "TeamResult AS (\n",
    "    SELECT \n",
    "        t.teamID,\n",
    "        t.memberID,\n",
    "        t.Criteria1,\n",
    "        t.Criteria2,\n",
    "        CASE \n",
    "            WHEN tc.valid_count >= 2 THEN 'Y'\n",
    "            ELSE 'N'\n",
    "        END AS team_result\n",
    "    FROM teams t\n",
    "    JOIN TeamCriteria tc ON t.teamID = tc.teamID\n",
    ")\n",
    "SELECT * \n",
    "FROM TeamResult;\n"
   ]
  }
 ],
 "metadata": {
  "language_info": {
   "name": "python"
  }
 },
 "nbformat": 4,
 "nbformat_minor": 2
}
