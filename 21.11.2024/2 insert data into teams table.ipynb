{
 "cells": [
  {
   "cell_type": "code",
   "execution_count": null,
   "metadata": {
    "vscode": {
     "languageId": "sql"
    }
   },
   "outputs": [],
   "source": [
    "--2  insert data into teams table\n",
    "\n",
    "insert into teams values \n",
    "('T1','T1_mbr1','Y','Y'), \n",
    "('T1','T1_mbr2','Y','Y'), \n",
    "('T1','T1_mbr3','Y','Y'), \n",
    "('T1','T1_mbr4','Y','Y'), \n",
    "('T1','T1_mbr5','Y','N'), \n",
    "('T2','T2_mbr1','Y','Y'), \n",
    "('T2','T2_mbr2','Y','N'), \n",
    "('T2','T2_mbr3','N','Y'), \n",
    "('T2','T2_mbr4','N','N'), \n",
    "('T2','T2_mbr5','N','N'), \n",
    "('T3','T3_mbr1','Y','Y'), \n",
    "('T3','T3_mbr2','Y','Y'), \n",
    "('T3','T3_mbr3','N','Y'), \n",
    "('T3','T3_mbr4','N','Y'), \n",
    "('T3','T3_mbr5','Y','N');\n",
    "\n"
   ]
  }
 ],
 "metadata": {
  "language_info": {
   "name": "python"
  }
 },
 "nbformat": 4,
 "nbformat_minor": 2
}
