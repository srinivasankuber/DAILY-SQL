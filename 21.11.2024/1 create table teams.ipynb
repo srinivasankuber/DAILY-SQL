{
 "cells": [
  {
   "cell_type": "code",
   "execution_count": null,
   "metadata": {
    "vscode": {
     "languageId": "sql"
    }
   },
   "outputs": [],
   "source": [
    "-- 1 create table teams \n",
    "\n",
    "create table teams \n",
    "( \n",
    "teamID TEXT, \n",
    "memberID TEXT, \n",
    "Criteria1 TEXT, \n",
    "Criteria2 TEXT \n",
    "); "
   ]
  }
 ],
 "metadata": {
  "language_info": {
   "name": "python"
  }
 },
 "nbformat": 4,
 "nbformat_minor": 2
}
