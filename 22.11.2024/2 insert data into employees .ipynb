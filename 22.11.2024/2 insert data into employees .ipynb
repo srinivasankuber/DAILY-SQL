{
 "cells": [
  {
   "cell_type": "code",
   "execution_count": null,
   "metadata": {
    "vscode": {
     "languageId": "sql"
    }
   },
   "outputs": [],
   "source": [
    "-- 2 insert data into employees\n",
    "\n",
    "INSERT INTO employees (name, department, salary)\n",
    "VALUES \n",
    "    ('Aravind', 'Finance', 55000.00),\n",
    "    ('Nikitha', 'HR', 60000.00),\n",
    "    ('Ram', 'IT', 75000.00),\n",
    "    ('Mark', 'Finance', 58000.00);\n"
   ]
  }
 ],
 "metadata": {
  "language_info": {
   "name": "python"
  }
 },
 "nbformat": 4,
 "nbformat_minor": 2
}
