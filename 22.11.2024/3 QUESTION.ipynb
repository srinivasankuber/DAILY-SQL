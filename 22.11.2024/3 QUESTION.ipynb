{
 "cells": [
  {
   "cell_type": "code",
   "execution_count": null,
   "metadata": {
    "vscode": {
     "languageId": "sql"
    }
   },
   "outputs": [],
   "source": [
    "--  QUESTION\n",
    "\n",
    "--  Find the top two highest-paid employees in each department.\n",
    "\n",
    "WITH ranked_employees AS (\n",
    "    SELECT \n",
    "        department,\n",
    "        name,\n",
    "        salary,\n",
    "        RANK() OVER (PARTITION BY department ORDER BY salary DESC) AS rank\n",
    "    FROM employees\n",
    ")\n",
    "SELECT \n",
    "    department,\n",
    "    name,\n",
    "    salary\n",
    "FROM ranked_employees\n",
    "WHERE rank <= 2;\n",
    "\n"
   ]
  }
 ],
 "metadata": {
  "language_info": {
   "name": "python"
  }
 },
 "nbformat": 4,
 "nbformat_minor": 2
}
