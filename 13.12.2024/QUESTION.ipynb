{
 "cells": [
  {
   "cell_type": "code",
   "execution_count": null,
   "metadata": {
    "vscode": {
     "languageId": "sql"
    }
   },
   "outputs": [],
   "source": [
    "-- QUESTION \n",
    "\n",
    "-- Write a query to find employees who have worked on more than one project, \n",
    "-- along with the count of their projects, but only \n",
    "-- include those whose projects have all been completed.\n",
    "\n",
    "\n",
    "SELECT \n",
    "    ep.employee_id,\n",
    "    COUNT(ep.project_id) AS total_projects\n",
    "FROM \n",
    "    employee_projects ep\n",
    "WHERE \n",
    "    ep.project_status = 'Completed'\n",
    "GROUP BY \n",
    "    ep.employee_id\n",
    "HAVING \n",
    "    COUNT(ep.project_id) > 1;\n"
   ]
  }
 ],
 "metadata": {
  "language_info": {
   "name": "python"
  }
 },
 "nbformat": 4,
 "nbformat_minor": 2
}
