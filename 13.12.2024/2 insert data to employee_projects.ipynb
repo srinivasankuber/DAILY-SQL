{
 "cells": [
  {
   "cell_type": "code",
   "execution_count": null,
   "metadata": {
    "vscode": {
     "languageId": "sql"
    }
   },
   "outputs": [],
   "source": [
    "--  2 insert data into employee_projects\n",
    "\n",
    "INSERT INTO employee_projects (employee_id, project_name, role, start_date, end_date, project_status)\n",
    "VALUES\n",
    "    (101, 'HR Management System', 'Team Lead', '2023-01-15', '2023-07-15', 'Completed'),\n",
    "    (102, 'Payroll System', 'Developer', '2023-03-01', '2023-12-01', 'Active'),\n",
    "    (103, 'Recruitment Portal', 'Tester', '2023-06-15', NULL, 'Active'),\n",
    "    (104, 'Employee Engagement App', 'Manager', '2022-10-01', '2023-04-30', 'Completed'),\n",
    "    (105, 'Time Tracking System', 'Analyst', '2023-08-01', NULL, 'On Hold');\n"
   ]
  }
 ],
 "metadata": {
  "language_info": {
   "name": "python"
  }
 },
 "nbformat": 4,
 "nbformat_minor": 2
}
