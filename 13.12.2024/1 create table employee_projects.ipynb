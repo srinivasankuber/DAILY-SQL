{
 "cells": [
  {
   "cell_type": "code",
   "execution_count": null,
   "metadata": {
    "vscode": {
     "languageId": "sql"
    }
   },
   "outputs": [],
   "source": [
    "--  1 create table employee_projects\n",
    "\n",
    "CREATE TABLE employee_projects (\n",
    "    project_id SERIAL PRIMARY KEY,\n",
    "    employee_id INT NOT NULL,\n",
    "    project_name VARCHAR(100) NOT NULL,\n",
    "    role VARCHAR(50),\n",
    "    start_date DATE NOT NULL,\n",
    "    end_date DATE,\n",
    "    project_status VARCHAR(20) CHECK (project_status IN ('Active', 'Completed', 'On Hold')),\n",
    "    FOREIGN KEY (employee_id) REFERENCES employees(employee_id)\n",
    ");\n"
   ]
  }
 ],
 "metadata": {
  "language_info": {
   "name": "python"
  }
 },
 "nbformat": 4,
 "nbformat_minor": 2
}
