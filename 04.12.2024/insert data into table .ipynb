{
 "cells": [
  {
   "cell_type": "code",
   "execution_count": null,
   "metadata": {
    "vscode": {
     "languageId": "sql"
    }
   },
   "outputs": [],
   "source": [
    "INSERT INTO books (title, author, published_year, genre, availability_status)\n",
    "VALUES\n",
    "    ('The Great Gatsby', 'F. Scott Fitzgerald', 1925, 'Fiction', TRUE),\n",
    "    ('To Kill a Mockingbird', 'Harper Lee', 1960, 'Fiction', FALSE),\n",
    "    ('1984', 'George Orwell', 1949, 'Dystopian', TRUE);\n"
   ]
  }
 ],
 "metadata": {
  "language_info": {
   "name": "python"
  }
 },
 "nbformat": 4,
 "nbformat_minor": 2
}
