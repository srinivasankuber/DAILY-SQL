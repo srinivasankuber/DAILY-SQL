{
 "cells": [
  {
   "cell_type": "code",
   "execution_count": null,
   "metadata": {
    "vscode": {
     "languageId": "sql"
    }
   },
   "outputs": [],
   "source": [
    "--  create table query\n",
    "\n",
    "CREATE TABLE books (\n",
    "    book_id SERIAL PRIMARY KEY,\n",
    "    title VARCHAR(100) NOT NULL,\n",
    "    author VARCHAR(50) NOT NULL,\n",
    "    published_year INTEGER,\n",
    "    genre VARCHAR(30),\n",
    "    availability_status BOOLEAN DEFAULT TRUE\n",
    ");\n"
   ]
  }
 ],
 "metadata": {
  "language_info": {
   "name": "python"
  }
 },
 "nbformat": 4,
 "nbformat_minor": 2
}
