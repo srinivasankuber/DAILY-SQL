{
 "cells": [
  {
   "cell_type": "code",
   "execution_count": null,
   "metadata": {
    "vscode": {
     "languageId": "sql"
    }
   },
   "outputs": [],
   "source": [
    "-- QUESTION\n",
    "\n",
    "\n",
    "-- Fetch the titles and authors of all books that are currently available (availability status = TRUE), sorted by title\n",
    "\n",
    "SELECT title, author\n",
    "FROM books\n",
    "WHERE availability_status = TRUE\n",
    "ORDER BY title;\n"
   ]
  }
 ],
 "metadata": {
  "language_info": {
   "name": "python"
  }
 },
 "nbformat": 4,
 "nbformat_minor": 2
}
