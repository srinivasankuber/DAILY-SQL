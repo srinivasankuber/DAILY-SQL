{
 "cells": [
  {
   "cell_type": "markdown",
   "metadata": {},
   "source": [
    "FOR TABLES REFER 26.11.2024\n"
   ]
  },
  {
   "cell_type": "code",
   "execution_count": null,
   "metadata": {
    "vscode": {
     "languageId": "sql"
    }
   },
   "outputs": [],
   "source": [
    "-- List all employees with their department name.\n",
    "\n",
    "SELECT \n",
    "    e.empid AS employee_id,\n",
    "    d.deptname AS department_name,\n",
    "    e.salary\n",
    "FROM \n",
    "    employees e\n",
    "JOIN \n",
    "    department d\n",
    "ON \n",
    "    e.deptid = d.deptid\n",
    "ORDER BY \n",
    "    employee_id;\n"
   ]
  }
 ],
 "metadata": {
  "language_info": {
   "name": "python"
  }
 },
 "nbformat": 4,
 "nbformat_minor": 2
}
