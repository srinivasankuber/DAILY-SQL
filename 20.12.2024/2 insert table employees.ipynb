{
 "cells": [
  {
   "cell_type": "code",
   "execution_count": null,
   "metadata": {
    "vscode": {
     "languageId": "sql"
    }
   },
   "outputs": [],
   "source": [
    "--  2 insert data into table employees \n",
    "\n",
    "\n",
    "INSERT INTO employees (name, department, joining_date, salary)\n",
    "VALUES \n",
    "    ('Aravind', 'Finance', '2022-06-01', 75000),\n",
    "    ('Nikitha', 'HR', '2023-01-15', 60000),\n",
    "    ('Ram', 'IT', '2021-11-20', 90000),\n",
    "    ('Mark', 'Supply Chain', '2022-03-10', 80000),\n",
    "    ('Sneha', 'Finance', '2023-07-05', 72000);\n"
   ]
  }
 ],
 "metadata": {
  "language_info": {
   "name": "python"
  }
 },
 "nbformat": 4,
 "nbformat_minor": 2
}
