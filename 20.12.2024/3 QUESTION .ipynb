{
 "cells": [
  {
   "cell_type": "code",
   "execution_count": null,
   "metadata": {
    "vscode": {
     "languageId": "sql"
    }
   },
   "outputs": [],
   "source": [
    "--  QUESTION\n",
    "\n",
    "Find the names of employees who joined within the last 1 year, along with their departments and their total number \n",
    "of months in the company (rounded to the nearest month).\n",
    "\n",
    "SELECT \n",
    "    name AS empname,\n",
    "    department AS deptname,\n",
    "    DATE_PART('month', AGE(joining_date)) AS months_in_company\n",
    "FROM employees\n",
    "WHERE joining_date >= CURRENT_DATE - INTERVAL '1 year';\n"
   ]
  }
 ],
 "metadata": {
  "language_info": {
   "name": "python"
  }
 },
 "nbformat": 4,
 "nbformat_minor": 2
}
