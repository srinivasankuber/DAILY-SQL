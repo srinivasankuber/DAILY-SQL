{
 "cells": [
  {
   "cell_type": "code",
   "execution_count": null,
   "metadata": {
    "vscode": {
     "languageId": "sql"
    }
   },
   "outputs": [],
   "source": [
    "-- QUESTION\n",
    "\n",
    "-- Write a query to find the category-wise total stock value (price × stock_quantity) for all products. Display only the \n",
    "categories where the total stock value exceeds 1,000,000,\n",
    " sorted in descending order of total stock value.\n",
    "\n",
    "\n",
    " SELECT \n",
    "    category,\n",
    "    SUM(price * stock_quantity) AS total_stock_value\n",
    "FROM \n",
    "    products\n",
    "GROUP BY \n",
    "    category\n",
    "HAVING \n",
    "    SUM(price * stock_quantity) > 1000000\n",
    "ORDER BY \n",
    "    total_stock_value DESC;\n"
   ]
  }
 ],
 "metadata": {
  "language_info": {
   "name": "python"
  }
 },
 "nbformat": 4,
 "nbformat_minor": 2
}
