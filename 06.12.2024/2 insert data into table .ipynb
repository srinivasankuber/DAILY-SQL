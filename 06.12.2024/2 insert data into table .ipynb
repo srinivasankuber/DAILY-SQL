{
 "cells": [
  {
   "cell_type": "code",
   "execution_count": null,
   "metadata": {
    "vscode": {
     "languageId": "sql"
    }
   },
   "outputs": [],
   "source": [
    "--  insert data into table\n",
    "\n",
    "\n",
    "INSERT INTO products (product_name, category, price, stock_quantity)\n",
    "VALUES\n",
    "    ('Laptop', 'Electronics', 75000.00, 50),\n",
    "    ('Headphones', 'Electronics', 1500.00, 200),\n",
    "    ('Notebook', 'Stationery', 50.00, 500),\n",
    "    ('Pen', 'Stationery', 10.00, 1000),\n",
    "    ('Smartphone', 'Electronics', 30000.00, 80);"
   ]
  }
 ],
 "metadata": {
  "language_info": {
   "name": "python"
  }
 },
 "nbformat": 4,
 "nbformat_minor": 2
}
