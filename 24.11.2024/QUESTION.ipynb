{
 "cells": [
  {
   "cell_type": "markdown",
   "metadata": {},
   "source": [
    "table and data are in 22.11.2024 refer from that"
   ]
  },
  {
   "cell_type": "code",
   "execution_count": null,
   "metadata": {
    "vscode": {
     "languageId": "sql"
    }
   },
   "outputs": [],
   "source": [
    "-- Find the department with the highest total salary.\n",
    "\n",
    "WITH department_salaries AS (\n",
    "    SELECT \n",
    "        department,\n",
    "        SUM(salary) AS total_salary\n",
    "    FROM employees\n",
    "    GROUP BY department\n",
    ")\n",
    "SELECT \n",
    "    department,\n",
    "    total_salary\n",
    "FROM department_salaries\n",
    "WHERE total_salary = (\n",
    "    SELECT MAX(total_salary) FROM department_salaries\n",
    ");"
   ]
  }
 ],
 "metadata": {
  "language_info": {
   "name": "python"
  }
 },
 "nbformat": 4,
 "nbformat_minor": 2
}
