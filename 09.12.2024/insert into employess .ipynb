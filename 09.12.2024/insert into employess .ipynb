{
 "cells": [
  {
   "cell_type": "code",
   "execution_count": null,
   "metadata": {
    "vscode": {
     "languageId": "sql"
    }
   },
   "outputs": [],
   "source": [
    "--  insert into employees table \n",
    "\n",
    "INSERT INTO employees (name, age, department, salary, joining_date)\n",
    "VALUES \n",
    "    ('Aravind', 30, 'Finance', 60000.00, '2022-06-15'),\n",
    "    ('Nikitha', 27, 'HR', 50000.00, '2021-09-10'),\n",
    "    ('Ram', 35, 'IT', 75000.00, '2019-03-25'),\n",
    "    ('Mark', 28, 'Finance', 55000.00, '2023-01-20'),\n",
    "    ('Srinivasan', 40, 'IT', 85000.00, '2017-11-30');\n"
   ]
  }
 ],
 "metadata": {
  "language_info": {
   "name": "python"
  }
 },
 "nbformat": 4,
 "nbformat_minor": 2
}
