{
 "cells": [
  {
   "cell_type": "code",
   "execution_count": null,
   "metadata": {
    "vscode": {
     "languageId": "sql"
    }
   },
   "outputs": [],
   "source": [
    "-- QUESTION \n",
    "\n",
    "--  Fetch the names and departments of employees whose salary is\n",
    "--  greater than 60,000 and have been with the company for more than 2 years.\n",
    "\n",
    " SELECT name AS empname, department AS deptname\n",
    "FROM employees\n",
    "WHERE salary > 60000\n",
    "  AND joining_date <= CURRENT_DATE - INTERVAL '2 years';\n"
   ]
  }
 ],
 "metadata": {
  "language_info": {
   "name": "python"
  }
 },
 "nbformat": 4,
 "nbformat_minor": 2
}
