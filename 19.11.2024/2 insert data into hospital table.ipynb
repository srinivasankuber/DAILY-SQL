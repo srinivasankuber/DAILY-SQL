{
 "cells": [
  {
   "cell_type": "code",
   "execution_count": null,
   "metadata": {
    "vscode": {
     "languageId": "sql"
    }
   },
   "outputs": [],
   "source": [
    "-- 2 insert data into hospital table \n",
    "\n",
    "insert into hospital (emp_id, action, time)\n",
    "values \n",
    "('1', 'in', '2019-12-22 09:00:00'),\n",
    "('1', 'out', '2019-12-22 09:15:00'), \n",
    "('2', 'in', '2019-12-22 09:00:00'), \n",
    "('2', 'out', '2019-12-22 09:15:00'), \n",
    "('2', 'in', '2019-12-22 09:30:00'),\n",
    "('3', 'out', '2019-12-22 09:00:00'), \n",
    "('3', 'in', '2019-12-22 09:15:00'),\n",
    "('3', 'out', '2019-12-22 09:30:00'), \n",
    "('3', 'in', '2019-12-22 09:45:00'),\n",
    "('4', 'in', '2019-12-22 09:45:00'), \n",
    "('5', 'out', '2019-12-22 09:40:00');\n"
   ]
  }
 ],
 "metadata": {
  "language_info": {
   "name": "python"
  }
 },
 "nbformat": 4,
 "nbformat_minor": 2
}
