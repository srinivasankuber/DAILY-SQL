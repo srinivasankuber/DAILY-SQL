{
 "cells": [
  {
   "cell_type": "code",
   "execution_count": null,
   "metadata": {
    "vscode": {
     "languageId": "sql"
    }
   },
   "outputs": [],
   "source": [
    "\n",
    "--  find the number of employees  inside in the hospital?\n",
    "\n",
    "\n",
    "\n",
    "with Lastlogin as ( select emp_id, action, time, row_number() over (partition by emp_id order by time desc)\n",
    "as rank from hospital) \n",
    "select emp_id, action, time from Lastlogin where  rank= 1 AND action = 'in'\n",
    "\n",
    "\n"
   ]
  }
 ],
 "metadata": {
  "language_info": {
   "name": "python"
  }
 },
 "nbformat": 4,
 "nbformat_minor": 2
}
