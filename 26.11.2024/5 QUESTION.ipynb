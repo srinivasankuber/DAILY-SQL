{
 "cells": [
  {
   "cell_type": "code",
   "execution_count": null,
   "metadata": {
    "vscode": {
     "languageId": "sql"
    }
   },
   "outputs": [],
   "source": [
    "--  select the 2nd highest salary of each department\n",
    "\n",
    "select deptname,empid, salary AS salary\n",
    "FROM (\n",
    "    SELECT \n",
    "        d.deptname, \n",
    "\t\te. empid,\n",
    "        e.salary,\n",
    "        dense_rank() OVER (PARTITION BY e.deptid ORDER BY e.salary DESC) AS \n",
    "rnk\n",
    "    FROM employees e\n",
    "    JOIN department d\n",
    "    ON e.deptid = d.deptid\n",
    ") ranked_salaries\n",
    "WHERE rnk = 2;\n"
   ]
  }
 ],
 "metadata": {
  "language_info": {
   "name": "python"
  }
 },
 "nbformat": 4,
 "nbformat_minor": 2
}
