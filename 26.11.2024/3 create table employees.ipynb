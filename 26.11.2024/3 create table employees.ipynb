{
 "cells": [
  {
   "cell_type": "code",
   "execution_count": null,
   "metadata": {
    "vscode": {
     "languageId": "sql"
    }
   },
   "outputs": [],
   "source": [
    "--  create table employees\n",
    "\n",
    "CREATE TABLE employees \n",
    "(\n",
    "empid INT, \n",
    "salary INT,\n",
    "deptid INT); \n",
    "\n",
    "\n"
   ]
  }
 ],
 "metadata": {
  "language_info": {
   "name": "python"
  }
 },
 "nbformat": 4,
 "nbformat_minor": 2
}
