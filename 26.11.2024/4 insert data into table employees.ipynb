{
 "cells": [
  {
   "cell_type": "code",
   "execution_count": null,
   "metadata": {
    "vscode": {
     "languageId": "sql"
    }
   },
   "outputs": [],
   "source": [
    "-- insert data into table employees\n",
    "\n",
    "INSERT INTO employees \n",
    "VALUES \n",
    "(1, 70000, 101),\n",
    "(2, 50000, 101),\n",
    "(3, 60000, 101),\n",
    "(4, 65000, 102),\n",
    "(5, 65000, 102),\n",
    "(6, 55000, 102),\n",
    "(7, 60000, 103),\n",
    "(8, 70000, 103),\n",
    "(9, 80000, 103);\n"
   ]
  }
 ],
 "metadata": {
  "language_info": {
   "name": "python"
  }
 },
 "nbformat": 4,
 "nbformat_minor": 2
}
