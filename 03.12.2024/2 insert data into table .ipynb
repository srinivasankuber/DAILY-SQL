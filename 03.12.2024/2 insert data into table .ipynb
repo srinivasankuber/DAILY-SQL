{
 "cells": [
  {
   "cell_type": "code",
   "execution_count": null,
   "metadata": {
    "vscode": {
     "languageId": "sql"
    }
   },
   "outputs": [],
   "source": [
    "--  2 insert data into employees table\n",
    "\n",
    "INSERT INTO employees (name, age, department) \n",
    "VALUES \n",
    "    ('Arjun', 30, 'Finance'),\n",
    "    ('Meera', 25, 'HR'),\n",
    "    ('Rohan', 35, 'IT'),\n",
    "    ('Anika', 28, 'Marketing');\n"
   ]
  }
 ],
 "metadata": {
  "language_info": {
   "name": "python"
  }
 },
 "nbformat": 4,
 "nbformat_minor": 2
}
