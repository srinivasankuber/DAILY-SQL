{
 "cells": [
  {
   "cell_type": "code",
   "execution_count": null,
   "metadata": {
    "vscode": {
     "languageId": "sql"
    }
   },
   "outputs": [],
   "source": [
    "\n",
    "--  QUESTION \n",
    "\n",
    "-- Find the average age of employees in each department.\n",
    "\n",
    "SELECT department, AVG(age) AS average_age \n",
    "FROM employees \n",
    "GROUP BY department;\n"
   ]
  }
 ],
 "metadata": {
  "language_info": {
   "name": "python"
  }
 },
 "nbformat": 4,
 "nbformat_minor": 2
}
