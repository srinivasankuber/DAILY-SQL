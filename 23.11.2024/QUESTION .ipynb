{
 "cells": [
  {
   "cell_type": "markdown",
   "metadata": {},
   "source": [
    "table and data are in 22.11.2024  refer from that\n",
    "\n"
   ]
  },
  {
   "cell_type": "code",
   "execution_count": null,
   "metadata": {
    "vscode": {
     "languageId": "sql"
    }
   },
   "outputs": [],
   "source": [
    "  -- Calculate the total and average salary for each department.\n",
    "  \n",
    "  SELECT \n",
    "    department,\n",
    "    SUM(salary) AS total_salary,\n",
    "    AVG(salary) AS average_salary\n",
    "FROM employees\n",
    "GROUP BY department;\n"
   ]
  }
 ],
 "metadata": {
  "language_info": {
   "name": "python"
  }
 },
 "nbformat": 4,
 "nbformat_minor": 2
}
