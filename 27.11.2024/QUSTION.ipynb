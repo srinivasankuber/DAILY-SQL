{
 "cells": [
  {
   "cell_type": "markdown",
   "metadata": {},
   "source": [
    "THE TWO TABLES ARE IN 26.11.2024 REFER THAT\n"
   ]
  },
  {
   "cell_type": "code",
   "execution_count": null,
   "metadata": {
    "vscode": {
     "languageId": "sql"
    }
   },
   "outputs": [],
   "source": [
    "-- 1 . Question: Find the total salary expense for each department along with the department name.\n",
    "\n",
    "SELECT \n",
    "    d.deptname AS department_name,\n",
    "    SUM(e.salary) AS total_salary\n",
    "FROM \n",
    "    department d\n",
    "JOIN \n",
    "    employees e\n",
    "ON \n",
    "    d.deptid = e.deptid\n",
    "GROUP BY \n",
    "    d.deptname\n",
    "ORDER BY \n",
    "    total_salary DESC;\n"
   ]
  }
 ],
 "metadata": {
  "language_info": {
   "name": "python"
  }
 },
 "nbformat": 4,
 "nbformat_minor": 2
}
