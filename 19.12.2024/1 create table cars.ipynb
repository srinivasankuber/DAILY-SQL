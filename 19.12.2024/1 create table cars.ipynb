{
 "cells": [
  {
   "cell_type": "code",
   "execution_count": null,
   "metadata": {
    "vscode": {
     "languageId": "sql"
    }
   },
   "outputs": [],
   "source": [
    "--  1 create table cars\n",
    "\n",
    "CREATE TABLE cars (\n",
    "    car_id SERIAL PRIMARY KEY,\n",
    "    car_name VARCHAR(50) NOT NULL,\n",
    "    origin VARCHAR(20) NOT NULL,\n",
    "    cylinders INT NOT NULL,\n",
    "    displacement DECIMAL(5, 2),\n",
    "    horsepower INT,\n",
    "    weight DECIMAL(6, 2),\n",
    "    acceleration DECIMAL(4, 2),\n",
    "    model_year INT CHECK (model_year BETWEEN 1950 AND 2025)\n",
    ");\n"
   ]
  }
 ],
 "metadata": {
  "language_info": {
   "name": "python"
  }
 },
 "nbformat": 4,
 "nbformat_minor": 2
}
