{
 "cells": [
  {
   "cell_type": "code",
   "execution_count": null,
   "metadata": {
    "vscode": {
     "languageId": "sql"
    }
   },
   "outputs": [],
   "source": [
    "--  2 insert data into cars table \n",
    "\n",
    "INSERT INTO cars (car_name, origin, cylinders, displacement, horsepower, weight, acceleration, model_year)\n",
    "VALUES \n",
    "    ('Toyota Corolla', 'Japan', 4, 97.00, 88, 1980.00, 15.5, 1975),\n",
    "    ('Ford Mustang', 'USA', 8, 302.00, 140, 3200.00, 12.0, 1968),\n",
    "    ('Volkswagen Golf', 'Europe', 4, 90.00, 70, 1800.00, 14.0, 1980),\n",
    "    ('Honda Civic', 'Japan', 4, 120.00, 90, 2100.00, 13.5, 1985),\n",
    "    ('Chevrolet Camaro', 'USA', 6, 250.00, 155, 3300.00, 11.0, 1970),\n",
    "    ('BMW 3 Series', 'Europe', 6, 170.00, 130, 2700.00, 14.5, 1990);\n"
   ]
  }
 ],
 "metadata": {
  "language_info": {
   "name": "python"
  }
 },
 "nbformat": 4,
 "nbformat_minor": 2
}
