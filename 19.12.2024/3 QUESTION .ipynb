{
 "cells": [
  {
   "cell_type": "code",
   "execution_count": null,
   "metadata": {
    "vscode": {
     "languageId": "sql"
    }
   },
   "outputs": [],
   "source": [
    "--  QUESTION\n",
    "\n",
    "-- Find the average horsepower of cars grouped by origin, but only include origins where the average weight \n",
    "of cars is greater than 2500 units.\n",
    " Also, show the total count of cars for each such origin.\n",
    "\n",
    " WITH avg_weight AS (\n",
    "    SELECT origin, AVG(weight) AS avg_weight, COUNT(*) AS car_count\n",
    "    FROM cars\n",
    "    GROUP BY origin\n",
    "    HAVING AVG(weight) > 2500\n",
    ")\n",
    "SELECT c.origin, AVG(c.horsepower) AS avg_horsepower, aw.car_count\n",
    "FROM cars c\n",
    "JOIN avg_weight aw ON c.origin = aw.origin\n",
    "GROUP BY c.origin, aw.car_count;\n"
   ]
  }
 ],
 "metadata": {
  "language_info": {
   "name": "python"
  }
 },
 "nbformat": 4,
 "nbformat_minor": 2
}
