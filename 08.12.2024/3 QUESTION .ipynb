{
 "cells": [
  {
   "cell_type": "code",
   "execution_count": null,
   "metadata": {
    "vscode": {
     "languageId": "sql"
    }
   },
   "outputs": [],
   "source": [
    "-- QUESTION \n",
    "\n",
    "-- Find projects completed within their allocated budget.\n",
    "\n",
    "SELECT project_name, budget, actual_budget\n",
    "FROM projects\n",
    "WHERE actual_budget <= budget;\n"
   ]
  }
 ],
 "metadata": {
  "language_info": {
   "name": "python"
  }
 },
 "nbformat": 4,
 "nbformat_minor": 2
}
