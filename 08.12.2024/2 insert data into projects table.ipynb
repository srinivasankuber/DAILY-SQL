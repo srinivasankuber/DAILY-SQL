{
 "cells": [
  {
   "cell_type": "code",
   "execution_count": null,
   "metadata": {
    "vscode": {
     "languageId": "sql"
    }
   },
   "outputs": [],
   "source": [
    "--  insert data into projects table \n",
    "\n",
    "INSERT INTO projects (project_name, start_date, end_date, budget)\n",
    "VALUES\n",
    "    ('HRIS System', '2024-01-01', '2024-06-30', 250000.00),\n",
    "    ('TimeSheet App', '2024-03-01', NULL, 150000.00),\n",
    "    ('Payroll System', '2024-02-15', '2024-07-15', 300000.00);\n"
   ]
  }
 ],
 "metadata": {
  "language_info": {
   "name": "python"
  }
 },
 "nbformat": 4,
 "nbformat_minor": 2
}
