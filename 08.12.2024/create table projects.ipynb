{
 "cells": [
  {
   "cell_type": "code",
   "execution_count": null,
   "metadata": {
    "vscode": {
     "languageId": "sql"
    }
   },
   "outputs": [],
   "source": [
    "-- create table projects\n",
    "\n",
    "CREATE TABLE projects (\n",
    "    project_id SERIAL PRIMARY KEY,\n",
    "    project_name TEXT NOT NULL,\n",
    "    start_date DATE NOT NULL,\n",
    "    end_date DATE,\n",
    "    budget NUMERIC(12, 2) CHECK (budget > 0)\n",
    ");\n"
   ]
  }
 ],
 "metadata": {
  "language_info": {
   "name": "python"
  }
 },
 "nbformat": 4,
 "nbformat_minor": 2
}
