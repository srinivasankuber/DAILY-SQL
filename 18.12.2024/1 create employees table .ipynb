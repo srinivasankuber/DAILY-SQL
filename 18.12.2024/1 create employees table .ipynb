{
 "cells": [
  {
   "cell_type": "code",
   "execution_count": null,
   "metadata": {
    "vscode": {
     "languageId": "sql"
    }
   },
   "outputs": [],
   "source": [
    "--  1 create  table employees \n",
    "\n",
    "CREATE TABLE employees (\n",
    "    employee_id SERIAL PRIMARY KEY,\n",
    "    first_name VARCHAR(50) NOT NULL,\n",
    "    last_name VARCHAR(50) NOT NULL,\n",
    "    email VARCHAR(100) UNIQUE NOT NULL,\n",
    "    phone_number VARCHAR(15),\n",
    "    hire_date DATE NOT NULL,\n",
    "    job_id VARCHAR(10) NOT NULL,\n",
    "    salary NUMERIC(10, 2) CHECK (salary > 0),\n",
    "    department_id INT,\n",
    "    manager_id INT,\n",
    "    CONSTRAINT fk_department FOREIGN KEY (department_id) REFERENCES departments (department_id),\n",
    "    CONSTRAINT fk_manager FOREIGN KEY (manager_id) REFERENCES employees (employee_id)\n",
    ");\n"
   ]
  }
 ],
 "metadata": {
  "language_info": {
   "name": "python"
  }
 },
 "nbformat": 4,
 "nbformat_minor": 2
}
