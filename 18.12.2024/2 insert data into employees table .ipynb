{
 "cells": [
  {
   "cell_type": "code",
   "execution_count": null,
   "metadata": {
    "vscode": {
     "languageId": "sql"
    }
   },
   "outputs": [],
   "source": [
    "-- 2 insert data into employees table \n",
    "\n",
    "INSERT INTO employees (first_name, last_name, email, phone_number, hire_date, job_id, salary, department_id, manager_id)  \n",
    "VALUES  \n",
    "('Aravind', 'Kumar', 'aravind.kumar@example.com', '9876543210', '2024-01-01', 'HR101', 75000.00, 101, NULL),\n",
    "('Nikitha', 'Rao', 'nikitha.rao@example.com', '9876543211', '2023-09-15', 'FIN201', 80000.00, 102, 1),\n",
    "('Mark', 'Smith', 'mark.smith@example.com', '9876543212', '2022-05-20', 'IT301', 90000.00, 103, 2);\n"
   ]
  }
 ],
 "metadata": {
  "language_info": {
   "name": "python"
  }
 },
 "nbformat": 4,
 "nbformat_minor": 2
}
