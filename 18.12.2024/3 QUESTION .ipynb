{
 "cells": [
  {
   "cell_type": "code",
   "execution_count": null,
   "metadata": {
    "vscode": {
     "languageId": "sql"
    }
   },
   "outputs": [],
   "source": [
    "-- QUESTION\n",
    "\n",
    "--  How to retrieve employees who earn more than the average salary of their department?\n",
    "\n",
    "SELECT e.first_name, e.last_name, e.salary, d.department_id  \n",
    "FROM employees e  \n",
    "JOIN (SELECT department_id, AVG(salary) AS avg_salary  \n",
    "      FROM employees  \n",
    "      GROUP BY department_id) d  \n",
    "ON e.department_id = d.department_id  \n",
    "WHERE e.salary > d.avg_salary;\n"
   ]
  }
 ],
 "metadata": {
  "language_info": {
   "name": "python"
  }
 },
 "nbformat": 4,
 "nbformat_minor": 2
}
