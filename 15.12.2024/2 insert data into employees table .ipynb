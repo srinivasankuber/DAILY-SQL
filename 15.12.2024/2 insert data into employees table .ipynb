{
 "cells": [
  {
   "cell_type": "code",
   "execution_count": null,
   "metadata": {
    "vscode": {
     "languageId": "sql"
    }
   },
   "outputs": [],
   "source": [
    "-- 2 insert data into employees table \n",
    "\n",
    "INSERT INTO Employees (FirstName, LastName, Email, Department, Salary, JoiningDate)\n",
    "VALUES\n",
    "('Aravind', 'Kumar', 'aravind.kumar@example.com', 'Finance', 75000.50, '2022-05-01'),\n",
    "('Nikitha', 'Reddy', 'nikitha.reddy@example.com', 'HR', 68000.75, '2021-08-15'),\n",
    "('Mark', 'Smith', 'mark.smith@example.com', 'IT', 90000.00, '2023-01-10'),\n",
    "('Ram', 'Prasad', 'ram.prasad@example.com', 'Supply Chain', 72000.25, '2020-03-20');\n"
   ]
  }
 ],
 "metadata": {
  "language_info": {
   "name": "python"
  }
 },
 "nbformat": 4,
 "nbformat_minor": 2
}
