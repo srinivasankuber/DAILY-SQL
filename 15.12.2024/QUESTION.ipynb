{
 "cells": [
  {
   "cell_type": "code",
   "execution_count": null,
   "metadata": {
    "vscode": {
     "languageId": "sql"
    }
   },
   "outputs": [],
   "source": [
    "--  QUESTION\n",
    "\n",
    "-- Find the top 2 highest-paid employees in each department, along with their department names and salaries\n",
    "\n",
    "WITH RankedEmployees AS (\n",
    "    SELECT \n",
    "        Department,\n",
    "        FirstName || ' ' || LastName AS EmployeeName,\n",
    "        Salary,\n",
    "        RANK() OVER (PARTITION BY Department ORDER BY Salary DESC) AS RankInDept\n",
    "    FROM Employees\n",
    ")\n",
    "SELECT Department, EmployeeName, Salary\n",
    "FROM RankedEmployees\n",
    "WHERE RankInDept <= 2\n",
    "ORDER BY Department, RankInDept;\n"
   ]
  }
 ],
 "metadata": {
  "language_info": {
   "name": "python"
  }
 },
 "nbformat": 4,
 "nbformat_minor": 2
}
