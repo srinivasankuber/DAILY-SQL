{
 "cells": [
  {
   "cell_type": "code",
   "execution_count": null,
   "metadata": {
    "vscode": {
     "languageId": "sql"
    }
   },
   "outputs": [],
   "source": [
    "-- 1 create table employees \n",
    "\n",
    "CREATE TABLE Employees (\n",
    "    EmployeeID SERIAL PRIMARY KEY,\n",
    "    FirstName VARCHAR(50) NOT NULL,\n",
    "    LastName VARCHAR(50) NOT NULL,\n",
    "    Email VARCHAR(100) UNIQUE NOT NULL,\n",
    "    Department VARCHAR(50) NOT NULL,\n",
    "    Salary DECIMAL(10, 2) CHECK (Salary > 0),\n",
    "    JoiningDate DATE NOT NULL,\n",
    "    IsActive BOOLEAN DEFAULT TRUE\n",
    ");\n"
   ]
  }
 ],
 "metadata": {
  "language_info": {
   "name": "python"
  }
 },
 "nbformat": 4,
 "nbformat_minor": 2
}
