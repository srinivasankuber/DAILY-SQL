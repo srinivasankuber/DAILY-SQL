{
 "cells": [
  {
   "cell_type": "code",
   "execution_count": null,
   "metadata": {
    "vscode": {
     "languageId": "sql"
    }
   },
   "outputs": [],
   "source": [
    "\n",
    "--  3 create table appointments\n",
    "\n",
    "CREATE TABLE Appointments \n",
    "(\n",
    "AppointmentID INT PRIMARY KEY,\n",
    "PatientID INT,\n",
    "DoctorID INT,\n",
    "AppointmentDate DATE,\n",
    "Status VARCHAR(20),\n",
    "FOREIGN KEY (PatientID) REFERENCES Patients(PatientID)\n",
    ");\n"
   ]
  }
 ],
 "metadata": {
  "language_info": {
   "name": "python"
  }
 },
 "nbformat": 4,
 "nbformat_minor": 2
}
