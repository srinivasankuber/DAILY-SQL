{
 "cells": [
  {
   "cell_type": "code",
   "execution_count": null,
   "metadata": {
    "vscode": {
     "languageId": "sql"
    }
   },
   "outputs": [],
   "source": [
    "--  4 insert data into appointments\n",
    "\n",
    "INSERT INTO Appointments\n",
    "VALUES\n",
    "(201, 1, 101, '2023-12-01', 'Completed'),\n",
    "(202, 2, 102, '2023-12-03', 'Scheduled'),\n",
    "(203, 3, 103, '2023-11-28', 'Completed'),\n",
    "(204, 4, 101, '2023-12-05', 'Cancelled'),\n",
    "(205, 5, 104, '2023-12-10', 'Scheduled' ),\n",
    "(206, 6, 101, '2023-12-12', 'Scheduled');\n",
    "\n",
    "\n",
    "\n"
   ]
  }
 ],
 "metadata": {
  "language_info": {
   "name": "python"
  }
 },
 "nbformat": 4,
 "nbformat_minor": 2
}
