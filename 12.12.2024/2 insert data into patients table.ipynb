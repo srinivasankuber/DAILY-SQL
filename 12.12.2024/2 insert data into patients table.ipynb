{
 "cells": [
  {
   "cell_type": "code",
   "execution_count": null,
   "metadata": {
    "vscode": {
     "languageId": "sql"
    }
   },
   "outputs": [],
   "source": [
    "-- 2 insert data into patients table\n",
    "\n",
    "INSERT INTO Patients VALUES\n",
    "(1, 'John', 'Doe', '1985-07-15', 'M', '123-456-7890'),\n",
    "(2, 'Jane', 'Smith', '1992-11-23', 'F', '234-567-8901'),\n",
    "(3, 'Michael', 'Johnson', '1978-03-12', 'M', '345-678-9012'),\n",
    "(4, 'Emily', 'Davis', '2000-06-30', 'F', '456-789-0123'),\n",
    "(5, 'Tom', 'Doe', '1982-05-17', 'M', '567-890-1234'),\n",
    "(6, 'Alice', 'Green', '1990-04-25', 'F', '678-901-2345');\n",
    "\n"
   ]
  }
 ],
 "metadata": {
  "language_info": {
   "name": "python"
  }
 },
 "nbformat": 4,
 "nbformat_minor": 2
}
