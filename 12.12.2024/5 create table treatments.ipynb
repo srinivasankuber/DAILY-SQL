{
 "cells": [
  {
   "cell_type": "code",
   "execution_count": null,
   "metadata": {
    "vscode": {
     "languageId": "sql"
    }
   },
   "outputs": [],
   "source": [
    "\n",
    "--  5 create table treatments\n",
    "\n",
    "CREATE TABLE Treatments \n",
    "(\n",
    "TreatmentID INT PRIMARY KEY,\n",
    "PatientID INT,\n",
    "DoctorID INT,\n",
    "TreatmentDate DATE,\n",
    "TreatmentDescription VARCHAR(255),\n",
    "FOREIGN KEY (PatientID) REFERENCES Patients(PatientID)\n",
    ");\n"
   ]
  }
 ],
 "metadata": {
  "language_info": {
   "name": "python"
  }
 },
 "nbformat": 4,
 "nbformat_minor": 2
}
