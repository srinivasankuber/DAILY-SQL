{
 "cells": [
  {
   "cell_type": "code",
   "execution_count": null,
   "metadata": {
    "vscode": {
     "languageId": "sql"
    }
   },
   "outputs": [],
   "source": [
    "--  QUESTION\n",
    "\n",
    "--   Retrieve a list of patients who have both \n",
    "--   appointments and treatments scheduled.\n",
    "\n",
    "select  distinct p.PatientID, p.FirstName, p.LastName\n",
    "from  Patients p join Appointments a \n",
    "on p.PatientID = a.PatientID\n",
    "join Treatments t on p.PatientID = t.PatientID\n",
    "where  a.Status = 'Scheduled';\n",
    "\n",
    "\n",
    "\n"
   ]
  }
 ],
 "metadata": {
  "language_info": {
   "name": "python"
  }
 },
 "nbformat": 4,
 "nbformat_minor": 2
}
