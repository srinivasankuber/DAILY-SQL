{
 "cells": [
  {
   "cell_type": "code",
   "execution_count": null,
   "metadata": {
    "vscode": {
     "languageId": "sql"
    }
   },
   "outputs": [],
   "source": [
    "--  6 insert data into treatements\n",
    "\n",
    "INSERT INTO Treatments VALUES\n",
    "(301, 1, 101, '2023-12-01', 'Heart checkup and ECG.'),\n",
    "(302, 3, 103, '2023-11-28', 'Routine vaccination. '),\n",
    "(303, 2, 102, '2023-12-03', 'Neurological assessment.'),\n",
    "(304, 4, 101, '2023-12-05', 'Cardiac evaluation and blood test.'),\n",
    "(305, 5, 104, '2023-12-10', 'Heart checkup and ECG.');\n",
    "\n"
   ]
  }
 ],
 "metadata": {
  "language_info": {
   "name": "python"
  }
 },
 "nbformat": 4,
 "nbformat_minor": 2
}
