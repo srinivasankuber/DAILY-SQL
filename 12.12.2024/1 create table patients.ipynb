{
 "cells": [
  {
   "cell_type": "code",
   "execution_count": null,
   "metadata": {
    "vscode": {
     "languageId": "sql"
    }
   },
   "outputs": [],
   "source": [
    "\n",
    "--  1 create table patients\n",
    "\n",
    "CREATE TABLE Patients\n",
    "(\n",
    "PatientID INT PRIMARY KEY,\n",
    "FirstName VARCHAR(50),\n",
    "LastName VARCHAR(50),\n",
    "DOB DATE,\n",
    "Gender CHAR(1),\n",
    "PhoneNumber VARCHAR(15)\n",
    ");\n"
   ]
  }
 ],
 "metadata": {
  "language_info": {
   "name": "python"
  }
 },
 "nbformat": 4,
 "nbformat_minor": 2
}
