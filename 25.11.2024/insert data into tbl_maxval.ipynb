{
 "cells": [
  {
   "cell_type": "code",
   "execution_count": null,
   "metadata": {
    "vscode": {
     "languageId": "sql"
    }
   },
   "outputs": [],
   "source": [
    "-- 2 insert data into tbl+_maxval\n",
    "\n",
    "insert into tbl_maxval (\"col1\", \"col2\", \"col3\")\n",
    "values \n",
    "('a',10,20),\n",
    "('b',50,30);\n",
    "\n"
   ]
  }
 ],
 "metadata": {
  "language_info": {
   "name": "python"
  }
 },
 "nbformat": 4,
 "nbformat_minor": 2
}
