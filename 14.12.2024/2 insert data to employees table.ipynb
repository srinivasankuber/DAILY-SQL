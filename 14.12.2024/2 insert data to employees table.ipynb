{
 "cells": [
  {
   "cell_type": "code",
   "execution_count": null,
   "metadata": {
    "vscode": {
     "languageId": "sql"
    }
   },
   "outputs": [],
   "source": [
    "--  2 insert data into employees table \n",
    "\n",
    "INSERT INTO employees (name, department, salary, joining_date, manager_id) VALUES\n",
    "('Alice', 'HR', 55000.00, '2022-01-15', NULL),\n",
    "('Bob', 'IT', 70000.00, '2021-03-20', 1),\n",
    "('Charlie', 'Finance', 60000.00, '2020-07-10', 1),\n",
    "('Diana', 'IT', 80000.00, '2023-01-05', 2),\n",
    "('Eve', 'HR', 50000.00, '2023-06-25', 1);\n"
   ]
  }
 ],
 "metadata": {
  "language_info": {
   "name": "python"
  }
 },
 "nbformat": 4,
 "nbformat_minor": 2
}
