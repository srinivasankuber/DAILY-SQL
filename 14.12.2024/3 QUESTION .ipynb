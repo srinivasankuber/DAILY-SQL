{
 "cells": [
  {
   "cell_type": "code",
   "execution_count": null,
   "metadata": {
    "vscode": {
     "languageId": "sql"
    }
   },
   "outputs": [],
   "source": [
    "--  QUESTION \n",
    "\n",
    "\n",
    "-- Retrieve the name and department of employees who earn more than the average salary of their department.\n",
    "\n",
    "WITH DepartmentAvg AS (\n",
    "    SELECT \n",
    "        department,\n",
    "        AVG(salary) AS avg_salary\n",
    "    FROM employees\n",
    "    GROUP BY department\n",
    ")\n",
    "SELECT \n",
    "    e.name AS employee_name,\n",
    "    e.department,\n",
    "    e.salary\n",
    "FROM employees e\n",
    "JOIN DepartmentAvg d\n",
    "ON e.department = d.department\n",
    "WHERE e.salary > d.avg_salary;\n"
   ]
  }
 ],
 "metadata": {
  "language_info": {
   "name": "python"
  }
 },
 "nbformat": 4,
 "nbformat_minor": 2
}
