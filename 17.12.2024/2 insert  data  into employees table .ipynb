{
 "cells": [
  {
   "cell_type": "code",
   "execution_count": null,
   "metadata": {
    "vscode": {
     "languageId": "sql"
    }
   },
   "outputs": [],
   "source": [
    "-- 2 insert data into employees table \n",
    "\n",
    "\n",
    "INSERT INTO employees (first_name, last_name, email, phone_number, hire_date, job_id, salary, manager_id, department_id)\n",
    "VALUES \n",
    "('Aravind', 'Kumar', 'aravind.kumar@company.com', '9876543210', '2024-01-03', 101, 75000.00, NULL, 10),\n",
    "('Nikitha', 'Reddy', 'nikitha.reddy@company.com', '9876543211', '2023-11-20', 102, 82000.00, 1, 20),\n",
    "('Mark', 'Joseph', 'mark.joseph@company.com', '9876543212', '2022-05-15', 103, 90000.00, 2, 30);\n"
   ]
  }
 ],
 "metadata": {
  "language_info": {
   "name": "python"
  }
 },
 "nbformat": 4,
 "nbformat_minor": 2
}
