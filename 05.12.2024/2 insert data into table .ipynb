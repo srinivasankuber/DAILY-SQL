{
 "cells": [
  {
   "cell_type": "code",
   "execution_count": null,
   "metadata": {
    "vscode": {
     "languageId": "sql"
    }
   },
   "outputs": [],
   "source": [
    "--  insert data into table\n",
    "\n",
    "INSERT INTO employees (first_name, last_name, email, phone_number, hire_date, job_id, salary, manager_id, department_id)\n",
    "VALUES\n",
    "('John', 'Doe', 'john.doe@example.com', '9876543210', '2020-01-15', 'DEV101', 75000.00, NULL, 10),\n",
    "('Jane', 'Smith', 'jane.smith@example.com', '9876543211', '2021-03-10', 'HR102', 55000.00, 1, 20),\n",
    "('Robert', 'Brown', 'robert.brown@example.com', '9876543212', '2019-07-01', 'DEV101', 90000.00, 1, 10),\n",
    "('Emily', 'Davis', 'emily.davis@example.com', '9876543213', '2022-06-12', 'FIN103', 62000.00, 2, 30);\n"
   ]
  }
 ],
 "metadata": {
  "language_info": {
   "name": "python"
  }
 },
 "nbformat": 4,
 "nbformat_minor": 2
}
