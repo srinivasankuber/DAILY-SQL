{
 "cells": [
  {
   "cell_type": "code",
   "execution_count": null,
   "metadata": {
    "vscode": {
     "languageId": "sql"
    }
   },
   "outputs": [],
   "source": [
    "-- List employees in a hierarchy under their managers\n",
    "\n",
    "WITH RECURSIVE employee_hierarchy AS (\n",
    "    SELECT employee_id, first_name, last_name, manager_id\n",
    "    FROM employees\n",
    "    WHERE manager_id IS NULL\n",
    "    UNION ALL\n",
    "    SELECT e.employee_id, e.first_name, e.last_name, e.manager_id\n",
    "    FROM employees e\n",
    "    INNER JOIN employee_hierarchy eh\n",
    "    ON e.manager_id = eh.employee_id\n",
    ")\n",
    "SELECT * FROM employee_hierarchy;\n"
   ]
  }
 ],
 "metadata": {
  "language_info": {
   "name": "python"
  }
 },
 "nbformat": 4,
 "nbformat_minor": 2
}
