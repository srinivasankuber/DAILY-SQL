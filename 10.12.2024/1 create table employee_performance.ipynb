{
 "cells": [
  {
   "cell_type": "code",
   "execution_count": null,
   "metadata": {
    "vscode": {
     "languageId": "sql"
    }
   },
   "outputs": [],
   "source": [
    "-- 1 create table \n",
    "\n",
    "CREATE TABLE employee_performance (\n",
    "    employee_id SERIAL PRIMARY KEY,\n",
    "    name VARCHAR(100) NOT NULL,\n",
    "    department VARCHAR(50),\n",
    "    salary NUMERIC(10, 2),\n",
    "    joining_date DATE,\n",
    "    performance_rating INTEGER CHECK (performance_rating BETWEEN 1 AND 5),\n",
    "    projects_completed INTEGER DEFAULT 0\n",
    ");"
   ]
  }
 ],
 "metadata": {
  "language_info": {
   "name": "python"
  }
 },
 "nbformat": 4,
 "nbformat_minor": 2
}
