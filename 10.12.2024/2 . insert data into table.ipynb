{
 "cells": [
  {
   "cell_type": "code",
   "execution_count": null,
   "metadata": {
    "vscode": {
     "languageId": "sql"
    }
   },
   "outputs": [],
   "source": [
    "--  2 insert table query \n",
    "\n",
    "INSERT INTO employee_performance (name, department, salary, joining_date, performance_rating, projects_completed) VALUES\n",
    "('Aravind', 'Finance', 55000.00, '2022-01-15', 4, 8),\n",
    "('Nikitha', 'HR', 48000.00, '2021-06-10', 5, 10),\n",
    "('Ram', 'IT', 67000.00, '2023-03-20', 3, 6),\n",
    "('Mark', 'Finance', 62000.00, '2021-11-05', 2, 4),\n",
    "('Priya', 'HR', 45000.00, '2022-09-12', 4, 7);\n"
   ]
  }
 ],
 "metadata": {
  "language_info": {
   "name": "python"
  }
 },
 "nbformat": 4,
 "nbformat_minor": 2
}
