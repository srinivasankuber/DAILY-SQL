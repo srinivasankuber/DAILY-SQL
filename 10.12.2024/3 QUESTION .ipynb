{
 "cells": [
  {
   "cell_type": "code",
   "execution_count": null,
   "metadata": {
    "vscode": {
     "languageId": "sql"
    }
   },
   "outputs": [],
   "source": [
    "-- QUESTION\n",
    "\n",
    "-- Find the top-performing employees (performance rating = 5) who have completed at\n",
    "--  least 8 projects. Sort the results\n",
    "--   by the number of projects completed in descending order.\n",
    "\n",
    "SELECT \n",
    "    name AS empname, \n",
    "    department AS deptname, \n",
    "    performance_rating, \n",
    "    projects_completed \n",
    "FROM \n",
    "    employee_performance\n",
    "WHERE \n",
    "    performance_rating = 5 AND projects_completed >= 8\n",
    "ORDER BY \n",
    "    projects_completed DESC;\n"
   ]
  }
 ],
 "metadata": {
  "language_info": {
   "name": "python"
  }
 },
 "nbformat": 4,
 "nbformat_minor": 2
}
